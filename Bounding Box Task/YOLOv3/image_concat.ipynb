{
 "cells": [
  {
   "cell_type": "code",
   "execution_count": 6,
   "metadata": {},
   "outputs": [],
   "source": [
    "import cv2\n",
    "import numpy as np"
   ]
  },
  {
   "cell_type": "code",
   "execution_count": 3,
   "metadata": {},
   "outputs": [],
   "source": [
    "image_folder = 'data'"
   ]
  },
  {
   "cell_type": "code",
   "execution_count": 4,
   "metadata": {},
   "outputs": [],
   "source": [
    "def concat_tile(im_list_2d):\n",
    "    return cv2.vconcat([cv2.hconcat(im_list_h) for im_list_h in im_list_2d])"
   ]
  },
  {
   "cell_type": "code",
   "execution_count": 143,
   "metadata": {},
   "outputs": [],
   "source": [
    "for i in range(106,134):\n",
    "    for j in range(126):\n",
    "        path1 = 'data/scene_'+str(j)+'/sample_'+str(j)+'/CAM_FRONT_LEFT.jpg'\n",
    "        path2 = 'data/scene_'+str(j)+'/sample_'+str(j)+'/CAM_FRONT.jpg'\n",
    "        path3 = 'data/scene_'+str(j)+'/sample_'+str(j)+'/CAM_FRONT_RIGHT.jpg'\n",
    "        path4 = 'data/scene_'+str(j)+'/sample_'+str(j)+'/CAM_BACK_LEFT.jpg'\n",
    "        path5 = 'data/scene_'+str(j)+'/sample_'+str(j)+'/CAM_BACK.jpg'\n",
    "        path6 = 'data/scene_'+str(j)+'/sample_'+str(j)+'/CAM_BACK_RIGHT.jpg'\n",
    "        im1 = cv2.imread(path1)\n",
    "        im2 = cv2.imread(path2)\n",
    "        im3 = cv2.imread(path3)\n",
    "        im4 = cv2.imread(path4)\n",
    "        im4 = np.flipud(im4)\n",
    "        im5 = cv2.imread(path5)\n",
    "        im5 = np.flipud(im5)\n",
    "        im6 = cv2.imread(path6)\n",
    "        im6 = np.flipud(im6)\n",
    "        im_tile = concat_tile([[im1, im2, im3],\n",
    "                       [im4, im5, im6]])\n",
    "        im = cv2.resize(im_tile, (800, 800)) \n",
    "        cv2.imwrite('data/images/'+str(i)+'_'+str(j)+'.jpg', im)\n",
    "\n",
    "            \n",
    "     "
   ]
  }
 ],
 "metadata": {
  "kernelspec": {
   "display_name": "Python 3",
   "language": "python",
   "name": "python3"
  },
  "language_info": {
   "codemirror_mode": {
    "name": "ipython",
    "version": 3
   },
   "file_extension": ".py",
   "mimetype": "text/x-python",
   "name": "python",
   "nbconvert_exporter": "python",
   "pygments_lexer": "ipython3",
   "version": "3.7.4"
  }
 },
 "nbformat": 4,
 "nbformat_minor": 4
}
